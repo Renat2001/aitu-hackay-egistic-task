{
 "cells": [
  {
   "cell_type": "code",
   "execution_count": null,
   "metadata": {},
   "outputs": [],
   "source": [
    "import os\n",
    "import numpy as np\n",
    "import json\n",
    "from tqdm.notebook import tqdm\n",
    "from sklearn import cluster\n",
    "\n",
    "PATH = \"../data/\""
   ]
  },
  {
   "cell_type": "code",
   "execution_count": null,
   "metadata": {},
   "outputs": [],
   "source": [
    "!jupyter nbextension enable --py widgetsnbextension"
   ]
  },
  {
   "cell_type": "code",
   "execution_count": null,
   "metadata": {},
   "outputs": [],
   "source": [
    "all_data = []\n",
    "for filename in os.listdir(PATH):\n",
    "    filepath = PATH + filename\n",
    "    with open(filepath) as f: \n",
    "        data = json.load(f)\n",
    "    all_data.append(data)"
   ]
  },
  {
   "cell_type": "code",
   "execution_count": null,
   "metadata": {},
   "outputs": [],
   "source": [
    "all_flat_data = []\n",
    "for data in tqdm(all_data):\n",
    "    data = np.array(data)\n",
    "    data = data[0, :, :]\n",
    "    height = data.shape[0]\n",
    "    width = data.shape[1]\n",
    "    flat_data = data.reshape((height*width, 1))\n",
    "    all_flat_data.append(flat_data)"
   ]
  },
  {
   "cell_type": "code",
   "execution_count": null,
   "metadata": {},
   "outputs": [],
   "source": [
    "all_flat_data = tuple(all_flat_data)\n",
    "all_flat_data = np.r_[all_flat_data]"
   ]
  },
  {
   "cell_type": "code",
   "execution_count": null,
   "metadata": {},
   "outputs": [],
   "source": [
    "model = cluster.KMeans(n_clusters=3, verbose=True)\n",
    "parameters = model.fit(all_flat_data)\n",
    "labels = model.labels_\n",
    "\n",
    "model.cluster_centers_"
   ]
  },
  {
   "cell_type": "code",
   "execution_count": null,
   "metadata": {},
   "outputs": [],
   "source": [
    "def map_clusters(predicted_data):\n",
    "    indices_1 = predicted_data==0\n",
    "    indices_2 = predicted_data==1\n",
    "    indices_3 = predicted_data==2\n",
    "    predicted_data[indices_1] = 1\n",
    "    predicted_data[indices_2] = 0\n",
    "    predicted_data[indices_3] = 2\n",
    "    return predicted_data"
   ]
  },
  {
   "cell_type": "code",
   "execution_count": null,
   "metadata": {},
   "outputs": [],
   "source": [
    "import pickle\n",
    "\n",
    "with open(\"rid_model.pkl\", \"wb\") as f:\n",
    "    pickle.dump(model, f)"
   ]
  },
  {
   "cell_type": "code",
   "execution_count": null,
   "metadata": {},
   "outputs": [],
   "source": []
  }
 ],
 "metadata": {
  "kernelspec": {
   "display_name": "Python 3.10.8 ('egistic')",
   "language": "python",
   "name": "python3"
  },
  "language_info": {
   "codemirror_mode": {
    "name": "ipython",
    "version": 3
   },
   "file_extension": ".py",
   "mimetype": "text/x-python",
   "name": "python",
   "nbconvert_exporter": "python",
   "pygments_lexer": "ipython3",
   "version": "3.10.8"
  },
  "orig_nbformat": 4,
  "vscode": {
   "interpreter": {
    "hash": "41793443334eccd0b5eb3871d4c9f603505d5f0d9dedf83ae9266eda272fc811"
   }
  }
 },
 "nbformat": 4,
 "nbformat_minor": 2
}
