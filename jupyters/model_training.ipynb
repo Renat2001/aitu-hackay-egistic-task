{
 "cells": [
  {
   "cell_type": "code",
   "execution_count": 1,
   "metadata": {},
   "outputs": [],
   "source": [
    "import os\n",
    "import numpy as np\n",
    "import json\n",
    "from tqdm.notebook import tqdm\n",
    "from sklearn import cluster\n",
    "\n",
    "PATH = \"../data/\""
   ]
  },
  {
   "cell_type": "code",
   "execution_count": 2,
   "metadata": {},
   "outputs": [
    {
     "name": "stderr",
     "output_type": "stream",
     "text": [
      "Enabling notebook extension jupyter-js-widgets/extension...\n",
      "      - Validating: ok\n"
     ]
    }
   ],
   "source": [
    "!jupyter nbextension enable --py widgetsnbextension"
   ]
  },
  {
   "cell_type": "code",
   "execution_count": 3,
   "metadata": {},
   "outputs": [],
   "source": [
    "all_data = []\n",
    "for filename in os.listdir(PATH):\n",
    "    filepath = PATH + filename\n",
    "    with open(filepath) as f: \n",
    "        data = json.load(f)\n",
    "    all_data.append(data)"
   ]
  },
  {
   "cell_type": "code",
   "execution_count": 4,
   "metadata": {},
   "outputs": [
    {
     "data": {
      "application/vnd.jupyter.widget-view+json": {
       "model_id": "bfae0854dd964606b69fc67bde357c55",
       "version_major": 2,
       "version_minor": 0
      },
      "text/plain": [
       "  0%|          | 0/191 [00:00<?, ?it/s]"
      ]
     },
     "metadata": {},
     "output_type": "display_data"
    }
   ],
   "source": [
    "all_flat_data = []\n",
    "for data in tqdm(all_data):\n",
    "    data = np.array(data)\n",
    "    data = data[0, :, :]\n",
    "    height = data.shape[0]\n",
    "    width = data.shape[1]\n",
    "    flat_data = data.reshape((height*width, 1))\n",
    "    all_flat_data.append(flat_data)"
   ]
  },
  {
   "cell_type": "code",
   "execution_count": 6,
   "metadata": {},
   "outputs": [],
   "source": [
    "all_flat_data = tuple(all_flat_data)\n",
    "all_flat_data = np.r_[all_flat_data]"
   ]
  },
  {
   "cell_type": "code",
   "execution_count": 20,
   "metadata": {},
   "outputs": [
    {
     "name": "stdout",
     "output_type": "stream",
     "text": [
      "Initialization complete\n",
      "Iteration 0, inertia 68062.34011705278.\n",
      "Iteration 1, inertia 45352.422552252174.\n",
      "Iteration 2, inertia 38109.58109210547.\n",
      "Iteration 3, inertia 33513.37710835023.\n",
      "Iteration 4, inertia 32277.85592657295.\n",
      "Iteration 5, inertia 32029.358282536446.\n",
      "Iteration 6, inertia 31958.79255188604.\n",
      "Iteration 7, inertia 31936.35640003566.\n",
      "Iteration 8, inertia 31929.05206992648.\n",
      "Converged at iteration 8: center shift 1.0009879495973556e-06 within tolerance 2.0308797698125643e-06.\n",
      "Initialization complete\n",
      "Iteration 0, inertia 38798.62081923745.\n",
      "Iteration 1, inertia 32470.47237564579.\n",
      "Iteration 2, inertia 32113.690259270817.\n",
      "Iteration 3, inertia 31989.463859395604.\n",
      "Iteration 4, inertia 31946.851809003438.\n",
      "Iteration 5, inertia 31932.67329486954.\n",
      "Converged at iteration 5: center shift 1.9646934133572206e-06 within tolerance 2.0308797698125643e-06.\n",
      "Initialization complete\n",
      "Iteration 0, inertia 47710.43576639198.\n",
      "Iteration 1, inertia 32354.98421563764.\n",
      "Iteration 2, inertia 32063.62460044888.\n",
      "Iteration 3, inertia 31971.979818938373.\n",
      "Iteration 4, inertia 31941.02593828785.\n",
      "Iteration 5, inertia 31930.73936333917.\n",
      "Converged at iteration 5: center shift 1.416589746682479e-06 within tolerance 2.0308797698125643e-06.\n",
      "Initialization complete\n",
      "Iteration 0, inertia 35049.43023754604.\n",
      "Iteration 1, inertia 32730.930934689248.\n",
      "Iteration 2, inertia 32175.895674532083.\n",
      "Iteration 3, inertia 32005.48766417907.\n",
      "Iteration 4, inertia 31951.375939119192.\n",
      "Iteration 5, inertia 31933.9464667387.\n",
      "Iteration 6, inertia 31928.275603434075.\n",
      "Converged at iteration 6: center shift 7.760084419079809e-07 within tolerance 2.0308797698125643e-06.\n",
      "Initialization complete\n",
      "Iteration 0, inertia 44639.326960655264.\n",
      "Iteration 1, inertia 33577.451447648906.\n",
      "Iteration 2, inertia 32046.227009448372.\n",
      "Iteration 3, inertia 31946.462216862874.\n",
      "Iteration 4, inertia 31931.85717890931.\n",
      "Converged at iteration 4: center shift 1.717938915979627e-06 within tolerance 2.0308797698125643e-06.\n",
      "Initialization complete\n",
      "Iteration 0, inertia 57365.900650510725.\n",
      "Iteration 1, inertia 38731.21787068099.\n",
      "Iteration 2, inertia 33917.62416701809.\n",
      "Iteration 3, inertia 32528.616605156687.\n",
      "Iteration 4, inertia 32116.16977362527.\n",
      "Iteration 5, inertia 31986.565192863225.\n",
      "Iteration 6, inertia 31945.32616986429.\n",
      "Iteration 7, inertia 31931.94611031921.\n",
      "Converged at iteration 7: center shift 1.870253204795099e-06 within tolerance 2.0308797698125643e-06.\n",
      "Initialization complete\n",
      "Iteration 0, inertia 33893.72557653688.\n",
      "Iteration 1, inertia 32375.75207771323.\n",
      "Iteration 2, inertia 32082.921902152582.\n",
      "Iteration 3, inertia 31978.687047355103.\n",
      "Iteration 4, inertia 31943.268665426258.\n",
      "Iteration 5, inertia 31931.51480478227.\n",
      "Converged at iteration 5: center shift 1.6510044538278423e-06 within tolerance 2.0308797698125643e-06.\n",
      "Initialization complete\n",
      "Iteration 0, inertia 68490.61446716561.\n",
      "Iteration 1, inertia 40757.51706332248.\n",
      "Iteration 2, inertia 35728.003358443384.\n",
      "Iteration 3, inertia 33465.640564504734.\n",
      "Iteration 4, inertia 32503.282677725707.\n",
      "Iteration 5, inertia 32131.016055502172.\n",
      "Iteration 6, inertia 31995.678030040654.\n",
      "Iteration 7, inertia 31949.02021521674.\n",
      "Iteration 8, inertia 31933.374151610402.\n",
      "Iteration 9, inertia 31928.223456243635.\n",
      "Converged at iteration 9: center shift 7.335099502018056e-07 within tolerance 2.0308797698125643e-06.\n",
      "Initialization complete\n",
      "Iteration 0, inertia 37483.064947585895.\n",
      "Iteration 1, inertia 33123.323540462974.\n",
      "Iteration 2, inertia 32366.401754937422.\n",
      "Iteration 3, inertia 32080.625944678322.\n",
      "Iteration 4, inertia 31977.916456525003.\n",
      "Iteration 5, inertia 31943.009568202837.\n",
      "Iteration 6, inertia 31931.415897172094.\n",
      "Converged at iteration 6: center shift 1.6228443991109335e-06 within tolerance 2.0308797698125643e-06.\n",
      "Initialization complete\n",
      "Iteration 0, inertia 35161.0249454425.\n",
      "Iteration 1, inertia 32688.585496609747.\n",
      "Iteration 2, inertia 32161.496640342186.\n",
      "Iteration 3, inertia 32001.0427990428.\n",
      "Iteration 4, inertia 31949.923704135366.\n",
      "Iteration 5, inertia 31933.48293801758.\n",
      "Iteration 6, inertia 31928.132879248744.\n",
      "Converged at iteration 6: center shift 7.352497548633597e-07 within tolerance 2.0308797698125643e-06.\n"
     ]
    },
    {
     "data": {
      "text/plain": [
       "array([[0.18098332],\n",
       "       [0.00444871],\n",
       "       [0.4462506 ]])"
      ]
     },
     "execution_count": 20,
     "metadata": {},
     "output_type": "execute_result"
    }
   ],
   "source": [
    "model = cluster.KMeans(n_clusters=3, verbose=True)\n",
    "parameters = model.fit(all_flat_data)\n",
    "labels = model.labels_\n",
    "\n",
    "model.cluster_centers_"
   ]
  },
  {
   "cell_type": "code",
   "execution_count": 35,
   "metadata": {},
   "outputs": [],
   "source": [
    "def map_clusters(predicted_data):\n",
    "    indices_1 = predicted_data==0\n",
    "    indices_2 = predicted_data==1\n",
    "    indices_3 = predicted_data==2\n",
    "    predicted_data[indices_1] = 1\n",
    "    predicted_data[indices_2] = 0\n",
    "    predicted_data[indices_3] = 2\n",
    "    return predicted_data"
   ]
  },
  {
   "cell_type": "code",
   "execution_count": 40,
   "metadata": {},
   "outputs": [],
   "source": [
    "import pickle\n",
    "\n",
    "with open(\"rid_model.pkl\", \"wb\") as f:\n",
    "    pickle.dump(model, f)"
   ]
  },
  {
   "cell_type": "code",
   "execution_count": null,
   "metadata": {},
   "outputs": [],
   "source": []
  }
 ],
 "metadata": {
  "kernelspec": {
   "display_name": "Python 3.10.8 ('egistic')",
   "language": "python",
   "name": "python3"
  },
  "language_info": {
   "codemirror_mode": {
    "name": "ipython",
    "version": 3
   },
   "file_extension": ".py",
   "mimetype": "text/x-python",
   "name": "python",
   "nbconvert_exporter": "python",
   "pygments_lexer": "ipython3",
   "version": "3.10.8"
  },
  "orig_nbformat": 4,
  "vscode": {
   "interpreter": {
    "hash": "41793443334eccd0b5eb3871d4c9f603505d5f0d9dedf83ae9266eda272fc811"
   }
  }
 },
 "nbformat": 4,
 "nbformat_minor": 2
}
